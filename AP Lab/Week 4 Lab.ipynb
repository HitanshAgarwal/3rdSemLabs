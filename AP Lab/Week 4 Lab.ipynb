{
 "cells": [
  {
   "cell_type": "code",
   "execution_count": 2,
   "id": "7fae9d92",
   "metadata": {},
   "outputs": [
    {
     "name": "stdout",
     "output_type": "stream",
     "text": [
      "Customer ID: 1\n",
      "Customer Name: Alice\n",
      "Subscription Type: prepaid\n",
      "Customer ID: 2\n",
      "Customer Name: Bob\n",
      "Subscription Type: postpaid\n",
      "Customer ID: 3\n",
      "Customer Name: \n",
      "Subscription Type: prepaid\n",
      "Customer ID: 4\n",
      "Customer Name: David\n",
      "Subscription Type: postpaid\n",
      "Customer ID: 5\n",
      "Customer Name: \n",
      "Subscription Type: prepaid\n",
      "Combination 1: [customer_id, customer_name, Subscription_type]\n",
      "[['1', 'Alice', 'prepaid'], ['2', 'Bob', 'postpaid'], ['3', '', 'prepaid'], ['4', 'David', 'postpaid'], ['5', '', 'prepaid']]\n",
      "\n",
      "Combination 2: [customer_id, customer_name]\n",
      "[['1', 'Alice'], ['2', 'Bob'], ['3', ''], ['4', 'David'], ['5', '']]\n",
      "\n",
      "Combination 3: [customer_name, Subscription_type]\n",
      "[['Alice', 'prepaid'], ['Bob', 'postpaid'], ['', 'prepaid'], ['David', 'postpaid'], ['', 'prepaid']]\n",
      "Enter the name to be searched: David\n",
      "{'customer_id': '4', 'customer_name': 'David', 'subscription_type': 'postpaid'}\n",
      "Enter Subscription Type: prepaid\n",
      "{'customer_id': '1', 'customer_name': 'Alice', 'subscription_type': 'prepaid'}\n",
      "{'customer_id': '3', 'customer_name': '', 'subscription_type': 'prepaid'}\n",
      "{'customer_id': '5', 'customer_name': '', 'subscription_type': 'prepaid'}\n"
     ]
    }
   ],
   "source": [
    "def tel_directory(customer_list):\n",
    "    \n",
    "    for i in range(5):\n",
    "        customer_list.append({})\n",
    "        customer_list[i][\"customer_id\"] = input(\"Customer ID: \")\n",
    "        customer_list[i][\"customer_name\"] = input(\"Customer Name: \")\n",
    "        customer_list[i][\"subscription_type\"] = input(\"Subscription Type: \")\n",
    "    \n",
    "    combination1 = [[customer['customer_id'], customer['customer_name'], customer['subscription_type']] for customer in customer_list]\n",
    "    combination2 = [[customer['customer_id'], customer['customer_name']] for customer in customer_list]\n",
    "    combination3 = [[customer['customer_name'], customer['subscription_type']] for customer in customer_list]\n",
    "    \n",
    "    return combination1, combination2, combination3, customer_list\n",
    "\n",
    "def Search_Customer(customers):\n",
    "    search = input(\"Enter the name to be searched: \")\n",
    "    \n",
    "    for customer in customers:\n",
    "        if customer['customer_name'] == search:\n",
    "            print(customer)\n",
    "            return\n",
    "    print(\"Customer not found!\")\n",
    "    \n",
    "def Search_subscription(customers):\n",
    "    search = input(\"Enter Subscription Type: \")\n",
    "    count = 0\n",
    "    for customer in customers:\n",
    "        if customer['subscription_type'] == search:\n",
    "            print(customer)\n",
    "            count += 1\n",
    "    if count == 0:\n",
    "        print(\"No customers found!\")\n",
    "\n",
    "customers = []\n",
    "comb1, comb2, comb3, customers = tel_directory(customers)\n",
    "\n",
    "print(\"Combination 1: [customer_id, customer_name, Subscription_type]\")\n",
    "print(comb1)\n",
    "\n",
    "print(\"\\nCombination 2: [customer_id, customer_name]\")\n",
    "print(comb2)\n",
    "\n",
    "print(\"\\nCombination 3: [customer_name, Subscription_type]\")\n",
    "print(comb3)\n",
    "\n",
    "Search_Customer(customers)\n",
    "Search_subscription(customers)"
   ]
  }
 ],
 "metadata": {
  "kernelspec": {
   "display_name": "Python 3 (ipykernel)",
   "language": "python",
   "name": "python3"
  },
  "language_info": {
   "codemirror_mode": {
    "name": "ipython",
    "version": 3
   },
   "file_extension": ".py",
   "mimetype": "text/x-python",
   "name": "python",
   "nbconvert_exporter": "python",
   "pygments_lexer": "ipython3",
   "version": "3.9.13"
  }
 },
 "nbformat": 4,
 "nbformat_minor": 5
}
