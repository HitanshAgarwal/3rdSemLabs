{
 "cells": [
  {
   "cell_type": "code",
   "execution_count": 2,
   "id": "73b70e5a",
   "metadata": {},
   "outputs": [
    {
     "name": "stdout",
     "output_type": "stream",
     "text": [
      "         Date Product Name  Units Sold  Revenue Region  Discount Offered (%)  \\\n",
      "0  2024-01-07     Widget B          14   809.91  North                  7.00   \n",
      "1  2024-01-14     Widget A          19   200.50   West                 22.22   \n",
      "2  2024-01-21     Widget B          17   684.44  South                 21.18   \n",
      "3  2024-01-28     Widget A           3   325.69  South                 26.80   \n",
      "4  2024-02-04     Widget B           4   729.73  South                 28.41   \n",
      "5  2024-02-11     Widget B          14   603.22   West                  6.90   \n",
      "6  2024-02-18     Widget B           6   742.65  South                 11.88   \n",
      "7  2024-02-25     Widget B          13   610.45   West                  8.87   \n",
      "8  2024-03-03     Widget C           8   346.44  North                  8.32   \n",
      "9  2024-03-10     Widget C           6   974.03  South                 25.85   \n",
      "10 2024-03-17     Widget C           2   925.73   East                  4.99   \n",
      "11 2024-03-24     Widget B          14   847.99   East                 24.52   \n",
      "12 2024-03-31     Widget B          17   937.64   West                  7.30   \n",
      "13 2024-04-07     Widget B          19   514.51  North                 17.28   \n",
      "14 2024-04-14     Widget C          15   355.25  North                 10.64   \n",
      "15 2024-04-21     Widget B          19   349.53   West                 11.51   \n",
      "16 2024-04-28     Widget B          14   804.63  South                  2.94   \n",
      "17 2024-05-05     Widget B          17   202.10  South                  5.49   \n",
      "18 2024-05-12     Widget B           8   478.21   West                  0.35   \n",
      "19 2024-05-19     Widget C           6   237.60  South                 23.35   \n",
      "\n",
      "   Salesperson  Revenue After Discount  \n",
      "0        David              753.216300  \n",
      "1        Alice              155.948900  \n",
      "2        David              539.475608  \n",
      "3          Bob              238.405080  \n",
      "4          Bob              522.413707  \n",
      "5        Alice              561.597820  \n",
      "6      Charlie              654.423180  \n",
      "7      Charlie              556.303085  \n",
      "8        David              317.616192  \n",
      "9          Bob              722.243245  \n",
      "10         Bob              879.536073  \n",
      "11       Alice              640.062852  \n",
      "12         Bob              869.192280  \n",
      "13     Charlie              425.602672  \n",
      "14     Charlie              317.451400  \n",
      "15       David              309.299097  \n",
      "16     Charlie              780.973878  \n",
      "17       Alice              191.004710  \n",
      "18       Alice              476.536265  \n",
      "19         Bob              182.120400  \n"
     ]
    }
   ],
   "source": [
    "import pandas as pd\n",
    "import numpy as np\n",
    "\n",
    "# Create a sample dataset\n",
    "data = {\n",
    "    'Date': pd.date_range(start='2024-01-01', periods=20, freq='W'),\n",
    "    'Product Name': np.random.choice(['Widget A', 'Widget B', 'Widget C'], 20),\n",
    "    'Units Sold': np.random.randint(1, 20, size=20),\n",
    "    'Revenue': np.random.uniform(100, 1000, size=20).round(2),\n",
    "    'Region': np.random.choice(['North', 'South', 'East', 'West'], 20),\n",
    "    'Discount Offered (%)': np.random.uniform(0, 30, size=20).round(2),\n",
    "    'Salesperson': np.random.choice(['Alice', 'Bob', 'Charlie', 'David'], 20)\n",
    "}\n",
    "\n",
    "df = pd.DataFrame(data)\n",
    "\n",
    "# Calculate Revenue After Discounts\n",
    "df['Revenue After Discount'] = df['Revenue'] * (1 - df['Discount Offered (%)'] / 100)\n",
    "print(df)"
   ]
  },
  {
   "cell_type": "code",
   "execution_count": 3,
   "id": "c45e4dae",
   "metadata": {},
   "outputs": [
    {
     "name": "stdout",
     "output_type": "stream",
     "text": [
      "Top 3 Sales Transactions with Highest Revenue:\n",
      "          Date Product Name  Units Sold  Revenue Region  Discount Offered (%)  \\\n",
      "9  2024-03-10     Widget C           6   974.03  South                 25.85   \n",
      "12 2024-03-31     Widget B          17   937.64   West                  7.30   \n",
      "10 2024-03-17     Widget C           2   925.73   East                  4.99   \n",
      "\n",
      "   Salesperson  Revenue After Discount  \n",
      "9          Bob              722.243245  \n",
      "12         Bob              869.192280  \n",
      "10         Bob              879.536073  \n"
     ]
    }
   ],
   "source": [
    "# 1. Top 3 sales transactions with the highest revenue\n",
    "top_3_revenue = df.nlargest(3, 'Revenue')\n",
    "print(\"Top 3 Sales Transactions with Highest Revenue:\\n\", top_3_revenue)"
   ]
  },
  {
   "cell_type": "code",
   "execution_count": 4,
   "id": "bb280235",
   "metadata": {},
   "outputs": [
    {
     "name": "stdout",
     "output_type": "stream",
     "text": [
      "\n",
      "Units Sold for Each Product:\n",
      " Product Name\n",
      "Widget A     22\n",
      "Widget B    176\n",
      "Widget C     37\n",
      "Name: Units Sold, dtype: int32\n"
     ]
    }
   ],
   "source": [
    "# 2. Units sold for each product\n",
    "units_sold_per_product = df.groupby('Product Name')['Units Sold'].sum()\n",
    "print(\"\\nUnits Sold for Each Product:\\n\", units_sold_per_product)"
   ]
  },
  {
   "cell_type": "code",
   "execution_count": 5,
   "id": "6d8ffaea",
   "metadata": {},
   "outputs": [
    {
     "name": "stdout",
     "output_type": "stream",
     "text": [
      "\n",
      "Total Revenue After Discounts:\n",
      " 10093.422744\n"
     ]
    }
   ],
   "source": [
    "# 3. Total revenue after applying discounts\n",
    "total_revenue_after_discount = df['Revenue After Discount'].sum()\n",
    "print(\"\\nTotal Revenue After Discounts:\\n\", total_revenue_after_discount)"
   ]
  },
  {
   "cell_type": "code",
   "execution_count": 6,
   "id": "91ffe63f",
   "metadata": {},
   "outputs": [
    {
     "name": "stdout",
     "output_type": "stream",
     "text": [
      "\n",
      "Highest Discount Transaction:\n",
      " Date                      2024-02-04 00:00:00\n",
      "Product Name                         Widget B\n",
      "Units Sold                                  4\n",
      "Revenue                                729.73\n",
      "Region                                  South\n",
      "Discount Offered (%)                    28.41\n",
      "Salesperson                               Bob\n",
      "Revenue After Discount             522.413707\n",
      "Name: 4, dtype: object\n"
     ]
    }
   ],
   "source": [
    "# 4. Transaction with the highest discount offered\n",
    "highest_discount = df.loc[df['Discount Offered (%)'].idxmax()]\n",
    "highest_discount_revenue_after_discount = highest_discount['Revenue After Discount']\n",
    "print(\"\\nHighest Discount Transaction:\\n\", highest_discount)"
   ]
  },
  {
   "cell_type": "code",
   "execution_count": 7,
   "id": "cdc6c3e8",
   "metadata": {},
   "outputs": [
    {
     "name": "stdout",
     "output_type": "stream",
     "text": [
      "\n",
      "Salesperson with Highest Total Revenue:\n",
      " Bob\n"
     ]
    }
   ],
   "source": [
    "# 5. Salesperson generating the highest total revenue\n",
    "highest_revenue_salesperson = df.groupby('Salesperson')['Revenue'].sum().idxmax()\n",
    "print(\"\\nSalesperson with Highest Total Revenue:\\n\", highest_revenue_salesperson)"
   ]
  },
  {
   "cell_type": "code",
   "execution_count": 8,
   "id": "c30389bb",
   "metadata": {},
   "outputs": [
    {
     "name": "stdout",
     "output_type": "stream",
     "text": [
      "\n",
      "Average Discount Offered by Each Salesperson:\n",
      " Salesperson\n",
      "Alice      11.8960\n",
      "Bob        19.4500\n",
      "Charlie    10.3220\n",
      "David      12.0025\n",
      "Name: Discount Offered (%), dtype: float64\n"
     ]
    }
   ],
   "source": [
    "# 6. Average discount offered by each salesperson\n",
    "avg_discount_per_salesperson = df.groupby('Salesperson')['Discount Offered (%)'].mean()\n",
    "print(\"\\nAverage Discount Offered by Each Salesperson:\\n\", avg_discount_per_salesperson)"
   ]
  },
  {
   "cell_type": "code",
   "execution_count": 9,
   "id": "9f9ccf54",
   "metadata": {},
   "outputs": [
    {
     "name": "stdout",
     "output_type": "stream",
     "text": [
      "\n",
      "Revenue Generated in Each Region:\n",
      " Region\n",
      "East     1773.72\n",
      "North    2026.11\n",
      "South    4700.87\n",
      "West     3179.55\n",
      "Name: Revenue, dtype: float64\n"
     ]
    }
   ],
   "source": [
    "# 7. Revenue generated in each region\n",
    "revenue_per_region = df.groupby('Region')['Revenue'].sum()\n",
    "print(\"\\nRevenue Generated in Each Region:\\n\", revenue_per_region)"
   ]
  },
  {
   "cell_type": "code",
   "execution_count": 10,
   "id": "cffe889e",
   "metadata": {},
   "outputs": [
    {
     "name": "stdout",
     "output_type": "stream",
     "text": [
      "\n",
      "Alice's Highest Sales Region:\n",
      " West\n"
     ]
    }
   ],
   "source": [
    "# 8. Region where Alice generated the highest sales\n",
    "alice_sales = df[df['Salesperson'] == 'Alice']\n",
    "alice_highest_sales_region = alice_sales.groupby('Region')['Revenue'].sum().idxmax()\n",
    "print(\"\\nAlice's Highest Sales Region:\\n\", alice_highest_sales_region)"
   ]
  },
  {
   "cell_type": "code",
   "execution_count": 11,
   "id": "6e6b453d",
   "metadata": {},
   "outputs": [
    {
     "name": "stdout",
     "output_type": "stream",
     "text": [
      "\n",
      "Highest Revenue per Unit Sold Product:\n",
      " Date                      2024-03-17 00:00:00\n",
      "Product Name                         Widget C\n",
      "Units Sold                                  2\n",
      "Revenue                                925.73\n",
      "Region                                   East\n",
      "Discount Offered (%)                     4.99\n",
      "Salesperson                               Bob\n",
      "Revenue After Discount             879.536073\n",
      "Revenue Per Unit                      462.865\n",
      "Name: 10, dtype: object\n"
     ]
    }
   ],
   "source": [
    "# 9. Product generating the highest revenue per unit sold\n",
    "df['Revenue Per Unit'] = df['Revenue'] / df['Units Sold']\n",
    "highest_revenue_per_unit_product = df.loc[df['Revenue Per Unit'].idxmax()]\n",
    "print(\"\\nHighest Revenue per Unit Sold Product:\\n\", highest_revenue_per_unit_product)"
   ]
  },
  {
   "cell_type": "code",
   "execution_count": 13,
   "id": "75280e1a",
   "metadata": {},
   "outputs": [
    {
     "name": "stdout",
     "output_type": "stream",
     "text": [
      "\n",
      "High Performance Transactions Count:\n",
      " 6\n"
     ]
    }
   ],
   "source": [
    "# 10. Transactions rated as \"High\" performance (arbitrarily define as Revenue > 800)\n",
    "high_performance_transactions = df[df['Revenue'] > 800]\n",
    "print(\"\\nHigh Performance Transactions Count:\\n\", len(high_performance_transactions))"
   ]
  },
  {
   "cell_type": "code",
   "execution_count": 16,
   "id": "9e9cbdd8",
   "metadata": {},
   "outputs": [
    {
     "name": "stdout",
     "output_type": "stream",
     "text": [
      "\n",
      "No sales in North region without discount.\n"
     ]
    }
   ],
   "source": [
    "# 11. Salesperson sold the most units in North region without offering any discount\n",
    "north_sales_no_discount = df[(df['Region'] == 'North') & (df['Discount Offered (%)'] == 0)]\n",
    "\n",
    "if not north_sales_no_discount.empty:\n",
    "    most_units_north = north_sales_no_discount.groupby('Salesperson')['Units Sold'].sum().idxmax()\n",
    "    print(\"\\nMost Units Sold in North Region Without Discount:\\n\", most_units_north)\n",
    "else:\n",
    "    print(\"\\nNo sales in North region without discount.\")"
   ]
  },
  {
   "cell_type": "code",
   "execution_count": 17,
   "id": "b6559d54",
   "metadata": {},
   "outputs": [
    {
     "name": "stdout",
     "output_type": "stream",
     "text": [
      "\n",
      "Average Revenue per Unit Sold in Each Region for Each Product:\n",
      " Region  Product Name\n",
      "East    Widget B         60.570714\n",
      "        Widget C        462.865000\n",
      "North   Widget B         42.465094\n",
      "        Widget C         33.494167\n",
      "South   Widget A        108.563333\n",
      "        Widget B         83.166097\n",
      "        Widget C        100.969167\n",
      "West    Widget A         10.552632\n",
      "        Widget B         44.674539\n",
      "dtype: float64\n"
     ]
    }
   ],
   "source": [
    "# 12. Average revenue per unit sold in each region for each product\n",
    "avg_revenue_per_unit_region_product = df.groupby(['Region', 'Product Name']).apply(lambda x: (x['Revenue'] / x['Units Sold']).mean())\n",
    "print(\"\\nAverage Revenue per Unit Sold in Each Region for Each Product:\\n\", avg_revenue_per_unit_region_product)"
   ]
  },
  {
   "cell_type": "code",
   "execution_count": 18,
   "id": "74269ccc",
   "metadata": {},
   "outputs": [
    {
     "name": "stdout",
     "output_type": "stream",
     "text": [
      "\n",
      "Salesperson with Highest Average Revenue After Discounts:\n",
      " Bob\n"
     ]
    }
   ],
   "source": [
    "# 13. Salesperson with the highest average revenue after discounts\n",
    "avg_revenue_after_discount_per_salesperson = df.groupby('Salesperson')['Revenue After Discount'].mean().idxmax()\n",
    "print(\"\\nSalesperson with Highest Average Revenue After Discounts:\\n\", avg_revenue_after_discount_per_salesperson)"
   ]
  },
  {
   "cell_type": "code",
   "execution_count": 19,
   "id": "1e2a0975",
   "metadata": {},
   "outputs": [
    {
     "name": "stdout",
     "output_type": "stream",
     "text": [
      "\n",
      "Cumulative Total Revenue Over Time for Each Salesperson:\n",
      " Salesperson  Date      \n",
      "Alice        2024-01-14     200.50\n",
      "             2024-02-11     803.72\n",
      "             2024-03-24    1651.71\n",
      "             2024-05-05    1853.81\n",
      "             2024-05-12    2332.02\n",
      "Bob          2024-01-28     325.69\n",
      "             2024-02-04    1055.42\n",
      "             2024-03-10    2029.45\n",
      "             2024-03-17    2955.18\n",
      "             2024-03-31    3892.82\n",
      "             2024-05-19    4130.42\n",
      "Charlie      2024-02-18     742.65\n",
      "             2024-02-25    1353.10\n",
      "             2024-04-07    1867.61\n",
      "             2024-04-14    2222.86\n",
      "             2024-04-28    3027.49\n",
      "David        2024-01-07     809.91\n",
      "             2024-01-21    1494.35\n",
      "             2024-03-03    1840.79\n",
      "             2024-04-21    2190.32\n",
      "Name: Revenue, dtype: float64\n"
     ]
    }
   ],
   "source": [
    "# 14. Cumulative total revenue over time for each salesperson\n",
    "cumulative_revenue = df.groupby(['Salesperson', 'Date'])['Revenue'].sum().groupby(level=0).cumsum()\n",
    "print(\"\\nCumulative Total Revenue Over Time for Each Salesperson:\\n\", cumulative_revenue)"
   ]
  },
  {
   "cell_type": "code",
   "execution_count": 20,
   "id": "a15054ec",
   "metadata": {},
   "outputs": [
    {
     "name": "stdout",
     "output_type": "stream",
     "text": [
      "\n",
      "Top 2 Transactions per Salesperson:\n",
      "                      Date Product Name  Units Sold  Revenue Region  \\\n",
      "Salesperson                                                          \n",
      "Alice       11 2024-03-24     Widget B          14   847.99   East   \n",
      "            5  2024-02-11     Widget B          14   603.22   West   \n",
      "Bob         9  2024-03-10     Widget C           6   974.03  South   \n",
      "            12 2024-03-31     Widget B          17   937.64   West   \n",
      "Charlie     16 2024-04-28     Widget B          14   804.63  South   \n",
      "            6  2024-02-18     Widget B           6   742.65  South   \n",
      "David       0  2024-01-07     Widget B          14   809.91  North   \n",
      "            2  2024-01-21     Widget B          17   684.44  South   \n",
      "\n",
      "                Discount Offered (%) Salesperson  Revenue After Discount  \\\n",
      "Salesperson                                                                \n",
      "Alice       11                 24.52       Alice              640.062852   \n",
      "            5                   6.90       Alice              561.597820   \n",
      "Bob         9                  25.85         Bob              722.243245   \n",
      "            12                  7.30         Bob              869.192280   \n",
      "Charlie     16                  2.94     Charlie              780.973878   \n",
      "            6                  11.88     Charlie              654.423180   \n",
      "David       0                   7.00       David              753.216300   \n",
      "            2                  21.18       David              539.475608   \n",
      "\n",
      "                Revenue Per Unit  \n",
      "Salesperson                       \n",
      "Alice       11         60.570714  \n",
      "            5          43.087143  \n",
      "Bob         9         162.338333  \n",
      "            12         55.155294  \n",
      "Charlie     16         57.473571  \n",
      "            6         123.775000  \n",
      "David       0          57.850714  \n",
      "            2          40.261176  \n"
     ]
    }
   ],
   "source": [
    "# 15. Rank transactions by revenue for each salesperson and find top 2\n",
    "top_2_transactions_per_salesperson = df.groupby('Salesperson').apply(lambda x: x.nlargest(2, 'Revenue'))\n",
    "print(\"\\nTop 2 Transactions per Salesperson:\\n\", top_2_transactions_per_salesperson)"
   ]
  },
  {
   "cell_type": "code",
   "execution_count": 21,
   "id": "bdf1867e",
   "metadata": {},
   "outputs": [
    {
     "name": "stdout",
     "output_type": "stream",
     "text": [
      "\n",
      "Cumulative Revenue per Product per Day:\n",
      " Date        Product Name\n",
      "2024-01-07  Widget B         809.91\n",
      "2024-01-14  Widget A         200.50\n",
      "2024-01-21  Widget B        1494.35\n",
      "2024-01-28  Widget A         526.19\n",
      "2024-02-04  Widget B        2224.08\n",
      "2024-02-11  Widget B        2827.30\n",
      "2024-02-18  Widget B        3569.95\n",
      "2024-02-25  Widget B        4180.40\n",
      "2024-03-03  Widget C         346.44\n",
      "2024-03-10  Widget C        1320.47\n",
      "2024-03-17  Widget C        2246.20\n",
      "2024-03-24  Widget B        5028.39\n",
      "2024-03-31  Widget B        5966.03\n",
      "2024-04-07  Widget B        6480.54\n",
      "2024-04-14  Widget C        2601.45\n",
      "2024-04-21  Widget B        6830.07\n",
      "2024-04-28  Widget B        7634.70\n",
      "2024-05-05  Widget B        7836.80\n",
      "2024-05-12  Widget B        8315.01\n",
      "2024-05-19  Widget C        2839.05\n",
      "Name: Revenue, dtype: float64\n"
     ]
    }
   ],
   "source": [
    "# 16. Cumulative revenue for each product per day\n",
    "cumulative_revenue_per_product = df.groupby(['Date', 'Product Name'])['Revenue'].sum().groupby(level=1).cumsum()\n",
    "print(\"\\nCumulative Revenue per Product per Day:\\n\", cumulative_revenue_per_product)"
   ]
  },
  {
   "cell_type": "code",
   "execution_count": 22,
   "id": "5fd52d3e",
   "metadata": {},
   "outputs": [
    {
     "name": "stdout",
     "output_type": "stream",
     "text": [
      "\n",
      "Average Revenue with vs without Discounts:\n",
      "                  Revenue Discount Offered (%)\n",
      "                    mean                count\n",
      "Product Name                                 \n",
      "Widget A      263.095000                    2\n",
      "Widget B      639.616154                   13\n",
      "Widget C      567.810000                    5\n"
     ]
    }
   ],
   "source": [
    "# 17. Average revenue generated with discount vs without\n",
    "avg_revenue_discount_vs_no_discount = df.groupby('Product Name').agg({\n",
    "    'Revenue': ['mean'],\n",
    "    'Discount Offered (%)': ['count']\n",
    "}).rename(columns={('Revenue', 'mean'): 'Avg Revenue', ('Discount Offered (%)', 'count'): 'Transaction Count'})\n",
    "print(\"\\nAverage Revenue with vs without Discounts:\\n\", avg_revenue_discount_vs_no_discount)"
   ]
  },
  {
   "cell_type": "code",
   "execution_count": 23,
   "id": "f49221e0",
   "metadata": {},
   "outputs": [
    {
     "name": "stdout",
     "output_type": "stream",
     "text": [
      "\n",
      "Weighted Average Discount Offered by Each Salesperson:\n",
      " Salesperson\n",
      "Alice      13.158955\n",
      "Bob        17.347127\n",
      "Charlie     9.669257\n",
      "David      12.359509\n",
      "dtype: float64\n"
     ]
    }
   ],
   "source": [
    "# 18. Weighted average discount offered by each salesperson\n",
    "weighted_avg_discount = df.groupby('Salesperson').apply(\n",
    "    lambda x: np.average(x['Discount Offered (%)'], weights=x['Revenue'])\n",
    ")\n",
    "print(\"\\nWeighted Average Discount Offered by Each Salesperson:\\n\", weighted_avg_discount)"
   ]
  },
  {
   "cell_type": "code",
   "execution_count": 24,
   "id": "ae08a19a",
   "metadata": {},
   "outputs": [
    {
     "name": "stdout",
     "output_type": "stream",
     "text": [
      "\n",
      "Percentage of Total Revenue per Region:\n",
      " Region\n",
      "East     15.185634\n",
      "North    17.346461\n",
      "South    40.246313\n",
      "West     27.221592\n",
      "Name: Revenue, dtype: float64\n"
     ]
    }
   ],
   "source": [
    "# 19. Percentage of total revenue each region contributes\n",
    "total_revenue = df['Revenue'].sum()\n",
    "percentage_revenue_per_region = (revenue_per_region / total_revenue) * 100\n",
    "print(\"\\nPercentage of Total Revenue per Region:\\n\", percentage_revenue_per_region)"
   ]
  },
  {
   "cell_type": "code",
   "execution_count": null,
   "id": "2dabecb8",
   "metadata": {},
   "outputs": [],
   "source": []
  }
 ],
 "metadata": {
  "kernelspec": {
   "display_name": "Python 3 (ipykernel)",
   "language": "python",
   "name": "python3"
  },
  "language_info": {
   "codemirror_mode": {
    "name": "ipython",
    "version": 3
   },
   "file_extension": ".py",
   "mimetype": "text/x-python",
   "name": "python",
   "nbconvert_exporter": "python",
   "pygments_lexer": "ipython3",
   "version": "3.9.13"
  }
 },
 "nbformat": 4,
 "nbformat_minor": 5
}
